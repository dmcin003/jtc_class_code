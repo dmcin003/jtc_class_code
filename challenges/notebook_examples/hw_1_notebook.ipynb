{
 "cells": [
  {
   "cell_type": "markdown",
   "metadata": {},
   "source": [
    "# Intro to Programming Using Python - Assignment #3\n",
    "# Completed by: Darron McIntyre\n",
    "\n",
    "\n",
    "\n",
    "# Be sure to read the instructions carefully!\n",
    "\n",
    "# 1. Create three dictionaries, each one will contain information about a particular student: Steve, Alice and Tyler\n",
    "   a. Assign each dictionary to a variable – eg. steve, alice and tyler\n",
    "   b. Create the following keys: name, homework, quizzes, and tests\n",
    "   c. Set the value of the name key to the name of the student – e.g. Steve's name should be \"Steve\"\n",
    "   d. Set the other keys – e.g. homework, quizzes, and tests – to empty lists (we'll fill them in later)\n",
    "   e. Print these empty dictionaries"
   ]
  },
  {
   "cell_type": "code",
   "execution_count": 1,
   "metadata": {},
   "outputs": [
    {
     "name": "stdout",
     "output_type": "stream",
     "text": [
      "Question 1\n",
      "\n",
      "{'name': 'Steve', 'Homework': [], 'Quizzes': [], 'Tests': []}\n",
      "{'name': 'Alice', 'Homework': [], 'Quizzes': [], 'Tests': []}\n",
      "{'name': 'Tyler', 'Homework': [], 'Quizzes': [], 'Tests': []}\n"
     ]
    }
   ],
   "source": [
    "\n",
    "import math\n",
    "print('Question 1\\n')\n",
    "steve = {'name':'Steve','Homework':[],'Quizzes':[],'Tests':[]}\n",
    "alice = {'name':'Alice','Homework':[],'Quizzes':[],'Tests':[]}\n",
    "tyler = {'name':'Tyler','Homework':[],'Quizzes':[],'Tests':[]}\n",
    "print(steve)\n",
    "print(alice)\n",
    "print(tyler)\n",
    "\n",
    "\n",
    "\n",
    "\n",
    "\n",
    "\n",
    "\n",
    "\n",
    "\n",
    "\n",
    "\n",
    "\n",
    "\n",
    "\n",
    "\n",
    "\n",
    "\n",
    "\n",
    "\n",
    "\n",
    "\n",
    "\n",
    "\n",
    "\n",
    "\n",
    "\n",
    "\n",
    "\n"
   ]
  },
  {
   "cell_type": "markdown",
   "metadata": {},
   "source": [
    "# Functions for assignment_3\n",
    " calculates the average of a list of numbers\n",
    " parameter : numbers(list)\n",
    " returns : average(float)"
   ]
  },
  {
   "cell_type": "code",
   "execution_count": 2,
   "metadata": {},
   "outputs": [],
   "source": [
    "\n",
    "def average(numbers):\n",
    "\treturn (sum(numbers)/len(numbers))\n",
    "\n",
    "# calculates the rounded weighted average of a student\n",
    "# parameter : student(dict)\n",
    "# return : weighted(int after rounding)\n",
    "def get_weighted_average(student):\n",
    "\tweighted = (average(student['Homework']) * .10) + (average(student['Quizzes']) * .30) + (average(student['Tests']) * .60)\n",
    "\t# returning a rounded weighted average\n",
    "\treturn round(weighted)\t\n",
    "\n",
    "# determines whether a score is a certain letter grade\n",
    "# parameter : score(int after rounding from get_weighted_average)\n",
    "# returns : letter grade(string) \n",
    "def get_letter_grade(score):\n",
    "\tif score >= 90 and score <= 100:\n",
    "\t\treturn 'A'\n",
    "\telif score >= 80 and score <= 89:\n",
    "\t\treturn 'B'\n",
    "\telif score >= 70 and score <= 79:\n",
    "\t\treturn 'C'\n",
    "\telif score >= 60 and score <= 69:\n",
    "\t\treturn 'D'\n",
    "\telse:\n",
    "\t\treturn 'F'\t\n",
    "\n",
    "# calculates the average of the students list giving you the class average\n",
    "# parameters : students(list of dictionaries)\n",
    "# return : class average(float)\n",
    "def get_class_average(students):\n",
    "\tresults = []\n",
    "\tfor student in students:\n",
    "\t\tresults.append(get_weighted_average(student))\n",
    "\treturn average(results)\t"
   ]
  },
  {
   "cell_type": "markdown",
   "metadata": {},
   "source": [
    "# 2. Now fill in the dictionaries above with the following scores and print the dictionaries:\n",
    " Steve\n",
    "   Homework: 90, 97, 75, 92\n",
    "   Quizzes: 88, 40, 94\n",
    "   Tests: 75, 90\n",
    " Alice\n",
    "   Homework: 100, 92, 98, 100\n",
    "   Quizzes: 82, 83, 91\n",
    "   Tests: 89, 97\n",
    " Tyler\n",
    "   Homework: 0, 87, 75, 22\n",
    "   Quizzes: 0, 75, 78\n",
    "   Tests: 100, 100"
   ]
  },
  {
   "cell_type": "code",
   "execution_count": 3,
   "metadata": {},
   "outputs": [
    {
     "name": "stdout",
     "output_type": "stream",
     "text": [
      "\n",
      "Question 2\n",
      "\n",
      "{'name': 'Steve', 'Homework': [90, 97, 75, 92], 'Quizzes': [88, 40, 94], 'Tests': [75, 90]}\n",
      "{'name': 'Alice', 'Homework': [100, 92, 98, 100], 'Quizzes': [82, 83, 91], 'Tests': [89, 97]}\n",
      "{'name': 'Tyler', 'Homework': [0, 87, 75, 22], 'Quizzes': [0, 75, 78], 'Tests': [100, 100]}\n"
     ]
    }
   ],
   "source": [
    "\n",
    "print('\\nQuestion 2\\n')\n",
    "steve = {'name':'Steve','Homework':[90,97,75,92],'Quizzes':[88,40,94],'Tests':[75,90]}\n",
    "alice = {'name':'Alice','Homework':[100,92,98,100],'Quizzes':[82,83,91],'Tests':[89,97]}\n",
    "tyler = {'name':'Tyler','Homework':[0,87,75,22],'Quizzes':[0,75,78],'Tests':[100,100]}\n",
    "print(steve)\n",
    "print(alice)\n",
    "print(tyler)"
   ]
  },
  {
   "cell_type": "markdown",
   "metadata": {},
   "source": [
    "# 3. Create a list called students that contains your three students and print the list"
   ]
  },
  {
   "cell_type": "code",
   "execution_count": 4,
   "metadata": {},
   "outputs": [
    {
     "name": "stdout",
     "output_type": "stream",
     "text": [
      "\n",
      "Question3\n",
      "\n",
      "[{'name': 'Steve', 'Homework': [90, 97, 75, 92], 'Quizzes': [88, 40, 94], 'Tests': [75, 90]}, {'name': 'Alice', 'Homework': [100, 92, 98, 100], 'Quizzes': [82, 83, 91], 'Tests': [89, 97]}, {'name': 'Tyler', 'Homework': [0, 87, 75, 22], 'Quizzes': [0, 75, 78], 'Tests': [100, 100]}]\n"
     ]
    }
   ],
   "source": [
    "\n",
    "print('\\nQuestion3\\n')\n",
    "students = [steve,alice,tyler]\n",
    "print(students)"
   ]
  },
  {
   "cell_type": "markdown",
   "metadata": {},
   "source": [
    "# 4. Loop over your students list and print out the following for each student:\n",
    "   - Name: (print out the student's name)\n",
    "   - Homework: (print out the student's homework)\n",
    "   - Quizzes: (print out the student's quizzes)\n",
    "   - Tests: (print out the student's tests)"
   ]
  },
  {
   "cell_type": "code",
   "execution_count": 5,
   "metadata": {},
   "outputs": [
    {
     "name": "stdout",
     "output_type": "stream",
     "text": [
      "\n",
      "Question 4\n",
      "\n",
      "Name: Steve\n",
      "Homework: [90, 97, 75, 92]\n",
      "Quizzes: [88, 40, 94]\n",
      "Tests: [75, 90]\n",
      "\n",
      "\n",
      "Name: Alice\n",
      "Homework: [100, 92, 98, 100]\n",
      "Quizzes: [82, 83, 91]\n",
      "Tests: [89, 97]\n",
      "\n",
      "\n",
      "Name: Tyler\n",
      "Homework: [0, 87, 75, 22]\n",
      "Quizzes: [0, 75, 78]\n",
      "Tests: [100, 100]\n",
      "\n",
      "\n"
     ]
    }
   ],
   "source": [
    "\n",
    "print('\\nQuestion 4\\n')\n",
    "for student in students:\n",
    "\tprint(f\"Name: {student['name']}\\nHomework: {student['Homework']}\\nQuizzes: {student['Quizzes']}\\nTests: {student['Tests']}\\n\\n\")"
   ]
  },
  {
   "cell_type": "markdown",
   "metadata": {},
   "source": [
    "# 5. Define a function to calculate the average of a list\n",
    "   a. Define a function called average() that has one argument, a list of numbers\n",
    "   b. Inside the function, use the built-in Python functions sum() and len() to calculate the average\n",
    "   c. Return the result\n",
    "   d. Test it out to make sure it works"
   ]
  },
  {
   "cell_type": "code",
   "execution_count": 6,
   "metadata": {},
   "outputs": [
    {
     "name": "stdout",
     "output_type": "stream",
     "text": [
      "\n",
      "Question 5\n",
      "\n",
      "Testing for average function on this list [1,2,3,4]:\n",
      "\n",
      "\tActual value from average function: 2.5 ,Expected value : 2.5\n",
      "\n",
      "\tIf the actual value and expected value are the same then average() is working properly!\n"
     ]
    }
   ],
   "source": [
    "\n",
    "print('\\nQuestion 5\\n')\n",
    "\n",
    "actual = average([1,2,3,4])\n",
    "expected = 2.5\n",
    "print('Testing for average function on this list [1,2,3,4]:\\n')\n",
    "print(f'\\tActual value from average function: {actual} ,Expected value : {expected}\\n')\n",
    "print('\\tIf the actual value and expected value are the same then average() is working properly!')"
   ]
  },
  {
   "cell_type": "markdown",
   "metadata": {},
   "source": [
    "# 6. Write a function to calculate the weighted average score for a student\n",
    "   a. Define a function called get_weighted_average() that takes one argument: student (see the dictionaries we created above)\n",
    "   b. Use your average() function to calculate the average of the student's homework, quizzes, and test scores\n",
    "   d. Return the weighted average score for each student (homework is 10%, quizzes are 30%, and tests are 60% ",
    " of the grade).\n",
    "   e. Test out your get_weighted_average() function on each student"
   ]
  },
  {
   "cell_type": "code",
   "execution_count": 7,
   "metadata": {},
   "outputs": [
    {
     "name": "stdout",
     "output_type": "stream",
     "text": [
      "\n",
      "Question 6\n",
      "\n",
      "Rounded weighted averages for each student below:\n",
      "\n",
      "Name: Steve\n",
      "Weighted average: 81\n",
      "\n",
      "\n",
      "Name: Alice\n",
      "Weighted average: 91\n",
      "\n",
      "\n",
      "Name: Tyler\n",
      "Weighted average: 80\n",
      "\n",
      "\n"
     ]
    }
   ],
   "source": [
    "\n",
    "print('\\nQuestion 6\\n')\n",
    "\n",
    "print('Rounded weighted averages for each student below:\\n')\n",
    "for student in students:\n",
    "\tprint(f\"Name: {student['name']}\\nWeighted average: {get_weighted_average(student)}\\n\\n\")"
   ]
  },
  {
   "cell_type": "markdown",
   "metadata": {},
   "source": [
    "# 7. Write a function to convert a grade into a letter grade\n",
    "  a. Define a function called get_letter_grade() that has one argument called score (a number)\n",
    "   b. Inside your function, use if / elif /else to return the following letter grades:\n",
    "       - 90 or above: “A\"\n",
    "       - 80 or above: “B\"\n",
    "       - 70 or above: “C\"\n",
    "       - 60 or above: “D\"\n",
    "       - Below 60: “F\"\n",
    "   c. Test it out on a few different numbers to make sure it works properly\n",
    "   d. Use a for loop to get each student's letter grade"
   ]
  },
  {
   "cell_type": "code",
   "execution_count": 8,
   "metadata": {},
   "outputs": [
    {
     "name": "stdout",
     "output_type": "stream",
     "text": [
      "\n",
      "Question 7\n",
      "\n",
      "Name: Steve\n",
      " Letter Grade: B\n",
      "\n",
      "\n",
      "Name: Alice\n",
      " Letter Grade: A\n",
      "\n",
      "\n",
      "Name: Tyler\n",
      " Letter Grade: B\n",
      "\n",
      "\n"
     ]
    }
   ],
   "source": [
    "\n",
    "\n",
    "\n",
    "\n",
    "print('\\nQuestion 7\\n')\n",
    "\n",
    "for student in students:\n",
    "\tprint(f\"Name: {student['name']}\\n Letter Grade: {get_letter_grade(get_weighted_average(student))}\\n\\n\")\n"
   ]
  },
  {
   "cell_type": "markdown",
   "metadata": {},
   "source": [
    "# 8. Write a function to calculate the class average\n",
    "   a. Create a function called get_class_average() that has one argument, students (a list of dictionaries)\n",
    "   b. Inside the function, create a temporary empty list called results to store each student's grade\n",
    "   c. Loop over the list of students, appending each student's grade into your results list\n",
    "   d. Finally, return the average of the results\n",
    "   e. Test out your function by printing out the class average"
   ]
  },
  {
   "cell_type": "code",
   "execution_count": 9,
   "metadata": {},
   "outputs": [
    {
     "name": "stdout",
     "output_type": "stream",
     "text": [
      "\n",
      "Question 8\n",
      "\n",
      "Class Average: 84.0\n"
     ]
    }
   ],
   "source": [
    "\n",
    "\n",
    "print('\\nQuestion 8\\n')\n",
    "\n",
    "print(f'Class Average: {get_class_average(students)}')"
   ]
  },
  {
   "cell_type": "markdown",
   "metadata": {},
   "source": [
    "# 9. The class has now a new student, Thomas, with the following grades:\n",
    "   Homework: 90, 85, 80, 0\n",
    "   Quizzes: 80, 100, 87\n",
    "   Tests: 85, 90\n",
    "   a. Create a dictionary for Thomas (as you did in #1) \n",
    "   b. add him to the class, by appending the dictionary to your list of students\n",
    "   c. Calculate the new class average and print your results"
   ]
  },
  {
   "cell_type": "code",
   "execution_count": 10,
   "metadata": {},
   "outputs": [
    {
     "name": "stdout",
     "output_type": "stream",
     "text": [
      "\n",
      "Question 9\n",
      "\n",
      "Average after adding Thomas to the Student List\n",
      "Class Average: 84.5\n"
     ]
    }
   ],
   "source": [
    "\n",
    "print('\\nQuestion 9\\n')\n",
    "thomas = {'name':'THomas','Homework':[90,85,80,0],'Quizzes':[80,100,87],'Tests':[85,90]}\n",
    "students.append(thomas)\n",
    "print('Average after adding Thomas to the Student List')\n",
    "print(f'Class Average: {get_class_average(students)}')"
   ]
  }
 ],
 "metadata": {
  "kernelspec": {
   "display_name": "Python 3",
   "language": "python",
   "name": "python3"
  },
  "language_info": {
   "codemirror_mode": {
    "name": "ipython",
    "version": 3
   },
   "file_extension": ".py",
   "mimetype": "text/x-python",
   "name": "python",
   "nbconvert_exporter": "python",
   "pygments_lexer": "ipython3",
   "version": "3.8.3"
  }
 },
 "nbformat": 4,
 "nbformat_minor": 4
}
