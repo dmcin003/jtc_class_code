{
 "cells": [
  {
   "cell_type": "markdown",
   "metadata": {},
   "source": [
    "# importing pandas library"
   ]
  },
  {
   "cell_type": "code",
   "execution_count": 1,
   "metadata": {},
   "outputs": [],
   "source": [
    "import pandas as pd"
   ]
  },
  {
   "cell_type": "markdown",
   "metadata": {},
   "source": [
    "# creating a dataframe called songs_1978 from billboard_1978.csv"
   ]
  },
  {
   "cell_type": "code",
   "execution_count": 2,
   "metadata": {},
   "outputs": [
    {
     "data": {
      "text/plain": [
       "pandas.core.frame.DataFrame"
      ]
     },
     "execution_count": 2,
     "metadata": {},
     "output_type": "execute_result"
    }
   ],
   "source": [
    "songs_1978 = pd.read_csv('../../datasets/billboard_1978.csv')\n",
    "type(songs_1978)"
   ]
  },
  {
   "cell_type": "markdown",
   "metadata": {},
   "source": [
    "# using head()\n",
    "* gets the first few items in the dataframe"
   ]
  },
  {
   "cell_type": "code",
   "execution_count": 3,
   "metadata": {},
   "outputs": [
    {
     "data": {
      "text/html": [
       "<div>\n",
       "<style scoped>\n",
       "    .dataframe tbody tr th:only-of-type {\n",
       "        vertical-align: middle;\n",
       "    }\n",
       "\n",
       "    .dataframe tbody tr th {\n",
       "        vertical-align: top;\n",
       "    }\n",
       "\n",
       "    .dataframe thead th {\n",
       "        text-align: right;\n",
       "    }\n",
       "</style>\n",
       "<table border=\"1\" class=\"dataframe\">\n",
       "  <thead>\n",
       "    <tr style=\"text-align: right;\">\n",
       "      <th></th>\n",
       "      <th>Year</th>\n",
       "      <th>Hot_Singles_Rank</th>\n",
       "      <th>Title</th>\n",
       "      <th>Artist</th>\n",
       "      <th>Genre</th>\n",
       "      <th>Weeks_On_Chart</th>\n",
       "      <th>Peak_Chart_Position</th>\n",
       "      <th>Maj_Min</th>\n",
       "      <th>BPM</th>\n",
       "    </tr>\n",
       "  </thead>\n",
       "  <tbody>\n",
       "    <tr>\n",
       "      <th>0</th>\n",
       "      <td>1978</td>\n",
       "      <td>1</td>\n",
       "      <td>\"Shadow Dancing\"</td>\n",
       "      <td>Andy Gibb</td>\n",
       "      <td>Pop</td>\n",
       "      <td>25</td>\n",
       "      <td>1</td>\n",
       "      <td>Min</td>\n",
       "      <td>102</td>\n",
       "    </tr>\n",
       "    <tr>\n",
       "      <th>1</th>\n",
       "      <td>1978</td>\n",
       "      <td>2</td>\n",
       "      <td>\"Night Fever\"</td>\n",
       "      <td>Bee Gees</td>\n",
       "      <td>Pop</td>\n",
       "      <td>20</td>\n",
       "      <td>1</td>\n",
       "      <td>Min</td>\n",
       "      <td>110</td>\n",
       "    </tr>\n",
       "    <tr>\n",
       "      <th>2</th>\n",
       "      <td>1978</td>\n",
       "      <td>3</td>\n",
       "      <td>\"You Light Up My Life\"</td>\n",
       "      <td>Debby Boone</td>\n",
       "      <td>Country</td>\n",
       "      <td>25</td>\n",
       "      <td>1</td>\n",
       "      <td>Maj</td>\n",
       "      <td>78</td>\n",
       "    </tr>\n",
       "    <tr>\n",
       "      <th>3</th>\n",
       "      <td>1978</td>\n",
       "      <td>4</td>\n",
       "      <td>\"Stayin' Alive\"</td>\n",
       "      <td>Bee Gees</td>\n",
       "      <td>Pop</td>\n",
       "      <td>27</td>\n",
       "      <td>1</td>\n",
       "      <td>Min</td>\n",
       "      <td>103</td>\n",
       "    </tr>\n",
       "    <tr>\n",
       "      <th>4</th>\n",
       "      <td>1978</td>\n",
       "      <td>5</td>\n",
       "      <td>\"Kiss You All Over\"</td>\n",
       "      <td>Exile</td>\n",
       "      <td>Country</td>\n",
       "      <td>23</td>\n",
       "      <td>1</td>\n",
       "      <td>Maj</td>\n",
       "      <td>104</td>\n",
       "    </tr>\n",
       "  </tbody>\n",
       "</table>\n",
       "</div>"
      ],
      "text/plain": [
       "   Year  Hot_Singles_Rank                   Title       Artist    Genre  \\\n",
       "0  1978                 1        \"Shadow Dancing\"    Andy Gibb      Pop   \n",
       "1  1978                 2           \"Night Fever\"     Bee Gees      Pop   \n",
       "2  1978                 3  \"You Light Up My Life\"  Debby Boone  Country   \n",
       "3  1978                 4         \"Stayin' Alive\"     Bee Gees      Pop   \n",
       "4  1978                 5     \"Kiss You All Over\"        Exile  Country   \n",
       "\n",
       "  Weeks_On_Chart  Peak_Chart_Position Maj_Min  BPM  \n",
       "0             25                    1     Min  102  \n",
       "1             20                    1     Min  110  \n",
       "2             25                    1     Maj   78  \n",
       "3             27                    1     Min  103  \n",
       "4             23                    1     Maj  104  "
      ]
     },
     "execution_count": 3,
     "metadata": {},
     "output_type": "execute_result"
    }
   ],
   "source": [
    "songs_1978.head()"
   ]
  },
  {
   "cell_type": "markdown",
   "metadata": {},
   "source": [
    "# Using tail()\n",
    "* gets the last few items in the dataframe"
   ]
  },
  {
   "cell_type": "code",
   "execution_count": 4,
   "metadata": {},
   "outputs": [
    {
     "data": {
      "text/html": [
       "<div>\n",
       "<style scoped>\n",
       "    .dataframe tbody tr th:only-of-type {\n",
       "        vertical-align: middle;\n",
       "    }\n",
       "\n",
       "    .dataframe tbody tr th {\n",
       "        vertical-align: top;\n",
       "    }\n",
       "\n",
       "    .dataframe thead th {\n",
       "        text-align: right;\n",
       "    }\n",
       "</style>\n",
       "<table border=\"1\" class=\"dataframe\">\n",
       "  <thead>\n",
       "    <tr style=\"text-align: right;\">\n",
       "      <th></th>\n",
       "      <th>Year</th>\n",
       "      <th>Hot_Singles_Rank</th>\n",
       "      <th>Title</th>\n",
       "      <th>Artist</th>\n",
       "      <th>Genre</th>\n",
       "      <th>Weeks_On_Chart</th>\n",
       "      <th>Peak_Chart_Position</th>\n",
       "      <th>Maj_Min</th>\n",
       "      <th>BPM</th>\n",
       "    </tr>\n",
       "  </thead>\n",
       "  <tbody>\n",
       "    <tr>\n",
       "      <th>95</th>\n",
       "      <td>1978</td>\n",
       "      <td>96</td>\n",
       "      <td>\"Ebony Eyes\"</td>\n",
       "      <td>Bob Welch</td>\n",
       "      <td>Rock</td>\n",
       "      <td>17</td>\n",
       "      <td>14</td>\n",
       "      <td>Maj</td>\n",
       "      <td>118</td>\n",
       "    </tr>\n",
       "    <tr>\n",
       "      <th>96</th>\n",
       "      <td>1978</td>\n",
       "      <td>97</td>\n",
       "      <td>\"The Name of the Game\"</td>\n",
       "      <td>ABBA</td>\n",
       "      <td>Pop</td>\n",
       "      <td>16</td>\n",
       "      <td>12</td>\n",
       "      <td>Maj</td>\n",
       "      <td>76</td>\n",
       "    </tr>\n",
       "    <tr>\n",
       "      <th>97</th>\n",
       "      <td>1978</td>\n",
       "      <td>98</td>\n",
       "      <td>\"We're All Alone\"</td>\n",
       "      <td>Rita Coolidge</td>\n",
       "      <td>Pop</td>\n",
       "      <td>20</td>\n",
       "      <td>7</td>\n",
       "      <td>Maj</td>\n",
       "      <td>66</td>\n",
       "    </tr>\n",
       "    <tr>\n",
       "      <th>98</th>\n",
       "      <td>1978</td>\n",
       "      <td>99</td>\n",
       "      <td>\"Hollywood Nights\"</td>\n",
       "      <td>Bob Seger &amp; The Silver Bullet Band</td>\n",
       "      <td>Rock</td>\n",
       "      <td>13</td>\n",
       "      <td>12</td>\n",
       "      <td>Maj</td>\n",
       "      <td>150</td>\n",
       "    </tr>\n",
       "    <tr>\n",
       "      <th>99</th>\n",
       "      <td>1978</td>\n",
       "      <td>100</td>\n",
       "      <td>\"Deacon Blues\"</td>\n",
       "      <td>Steely Dan</td>\n",
       "      <td>Rock</td>\n",
       "      <td>16</td>\n",
       "      <td>19</td>\n",
       "      <td>Maj</td>\n",
       "      <td>114</td>\n",
       "    </tr>\n",
       "  </tbody>\n",
       "</table>\n",
       "</div>"
      ],
      "text/plain": [
       "    Year  Hot_Singles_Rank                   Title  \\\n",
       "95  1978                96            \"Ebony Eyes\"   \n",
       "96  1978                97  \"The Name of the Game\"   \n",
       "97  1978                98       \"We're All Alone\"   \n",
       "98  1978                99      \"Hollywood Nights\"   \n",
       "99  1978               100          \"Deacon Blues\"   \n",
       "\n",
       "                                Artist Genre Weeks_On_Chart  \\\n",
       "95                           Bob Welch  Rock             17   \n",
       "96                                ABBA   Pop             16   \n",
       "97                       Rita Coolidge   Pop             20   \n",
       "98  Bob Seger & The Silver Bullet Band  Rock             13   \n",
       "99                          Steely Dan  Rock             16   \n",
       "\n",
       "    Peak_Chart_Position Maj_Min  BPM  \n",
       "95                   14     Maj  118  \n",
       "96                   12     Maj   76  \n",
       "97                    7     Maj   66  \n",
       "98                   12     Maj  150  \n",
       "99                   19     Maj  114  "
      ]
     },
     "execution_count": 4,
     "metadata": {},
     "output_type": "execute_result"
    }
   ],
   "source": [
    "songs_1978.tail()"
   ]
  },
  {
   "cell_type": "markdown",
   "metadata": {},
   "source": [
    "# Using iloc[]\n",
    "* allows you to access a range or particular item in the dataframe"
   ]
  },
  {
   "cell_type": "code",
   "execution_count": 5,
   "metadata": {},
   "outputs": [
    {
     "data": {
      "text/plain": [
       "Year                                       1978\n",
       "Hot_Singles_Rank                             94\n",
       "Title                           \"Turn to Stone\"\n",
       "Artist                 Electric Light Orchestra\n",
       "Genre                                      Rock\n",
       "Weeks_On_Chart                               15\n",
       "Peak_Chart_Position                          13\n",
       "Maj_Min                                     Maj\n",
       "BPM                                         138\n",
       "Name: 93, dtype: object"
      ]
     },
     "execution_count": 5,
     "metadata": {},
     "output_type": "execute_result"
    }
   ],
   "source": [
    "songs_1978.iloc[93]"
   ]
  },
  {
   "cell_type": "markdown",
   "metadata": {},
   "source": [
    "# Using shape\n",
    "* gives you the number of rows and columns in the dataframe"
   ]
  },
  {
   "cell_type": "code",
   "execution_count": 6,
   "metadata": {},
   "outputs": [
    {
     "data": {
      "text/plain": [
       "(100, 9)"
      ]
     },
     "execution_count": 6,
     "metadata": {},
     "output_type": "execute_result"
    }
   ],
   "source": [
    "songs_1978.shape"
   ]
  },
  {
   "cell_type": "markdown",
   "metadata": {},
   "source": [
    "# Using info()\n",
    "* gives you data about the dataframe, positions, data types, column names,etc\n",
    "* Title,Artist, Genre, Weeks_On_Chart, and Maj_Min are all Strings\n",
    "* Year, Hot_Singles_Rank, BPM, and Peak_Chart_Position are all integers"
   ]
  },
  {
   "cell_type": "code",
   "execution_count": 7,
   "metadata": {},
   "outputs": [
    {
     "name": "stdout",
     "output_type": "stream",
     "text": [
      "<class 'pandas.core.frame.DataFrame'>\n",
      "RangeIndex: 100 entries, 0 to 99\n",
      "Data columns (total 9 columns):\n",
      " #   Column               Non-Null Count  Dtype \n",
      "---  ------               --------------  ----- \n",
      " 0   Year                 100 non-null    int64 \n",
      " 1   Hot_Singles_Rank     100 non-null    int64 \n",
      " 2   Title                100 non-null    object\n",
      " 3   Artist               100 non-null    object\n",
      " 4   Genre                100 non-null    object\n",
      " 5   Weeks_On_Chart       100 non-null    object\n",
      " 6   Peak_Chart_Position  100 non-null    int64 \n",
      " 7   Maj_Min              100 non-null    object\n",
      " 8   BPM                  100 non-null    int64 \n",
      "dtypes: int64(4), object(5)\n",
      "memory usage: 7.2+ KB\n"
     ]
    }
   ],
   "source": [
    "songs_1978.info()"
   ]
  },
  {
   "cell_type": "markdown",
   "metadata": {},
   "source": [
    "# Using describe()\n",
    "* describe gives you statistical data on the dataframe\n",
    "* the slowest tempo is 64 BPM and the fastest is 156 BPM"
   ]
  },
  {
   "cell_type": "code",
   "execution_count": 8,
   "metadata": {},
   "outputs": [
    {
     "data": {
      "text/html": [
       "<div>\n",
       "<style scoped>\n",
       "    .dataframe tbody tr th:only-of-type {\n",
       "        vertical-align: middle;\n",
       "    }\n",
       "\n",
       "    .dataframe tbody tr th {\n",
       "        vertical-align: top;\n",
       "    }\n",
       "\n",
       "    .dataframe thead th {\n",
       "        text-align: right;\n",
       "    }\n",
       "</style>\n",
       "<table border=\"1\" class=\"dataframe\">\n",
       "  <thead>\n",
       "    <tr style=\"text-align: right;\">\n",
       "      <th></th>\n",
       "      <th>Year</th>\n",
       "      <th>Hot_Singles_Rank</th>\n",
       "      <th>Peak_Chart_Position</th>\n",
       "      <th>BPM</th>\n",
       "    </tr>\n",
       "  </thead>\n",
       "  <tbody>\n",
       "    <tr>\n",
       "      <th>count</th>\n",
       "      <td>100.0</td>\n",
       "      <td>100.000000</td>\n",
       "      <td>100.000000</td>\n",
       "      <td>100.000000</td>\n",
       "    </tr>\n",
       "    <tr>\n",
       "      <th>mean</th>\n",
       "      <td>1978.0</td>\n",
       "      <td>50.500000</td>\n",
       "      <td>6.940000</td>\n",
       "      <td>107.700000</td>\n",
       "    </tr>\n",
       "    <tr>\n",
       "      <th>std</th>\n",
       "      <td>0.0</td>\n",
       "      <td>29.011492</td>\n",
       "      <td>5.112512</td>\n",
       "      <td>20.396821</td>\n",
       "    </tr>\n",
       "    <tr>\n",
       "      <th>min</th>\n",
       "      <td>1978.0</td>\n",
       "      <td>1.000000</td>\n",
       "      <td>1.000000</td>\n",
       "      <td>64.000000</td>\n",
       "    </tr>\n",
       "    <tr>\n",
       "      <th>25%</th>\n",
       "      <td>1978.0</td>\n",
       "      <td>25.750000</td>\n",
       "      <td>3.000000</td>\n",
       "      <td>96.000000</td>\n",
       "    </tr>\n",
       "    <tr>\n",
       "      <th>50%</th>\n",
       "      <td>1978.0</td>\n",
       "      <td>50.500000</td>\n",
       "      <td>6.000000</td>\n",
       "      <td>110.000000</td>\n",
       "    </tr>\n",
       "    <tr>\n",
       "      <th>75%</th>\n",
       "      <td>1978.0</td>\n",
       "      <td>75.250000</td>\n",
       "      <td>11.000000</td>\n",
       "      <td>122.000000</td>\n",
       "    </tr>\n",
       "    <tr>\n",
       "      <th>max</th>\n",
       "      <td>1978.0</td>\n",
       "      <td>100.000000</td>\n",
       "      <td>21.000000</td>\n",
       "      <td>156.000000</td>\n",
       "    </tr>\n",
       "  </tbody>\n",
       "</table>\n",
       "</div>"
      ],
      "text/plain": [
       "         Year  Hot_Singles_Rank  Peak_Chart_Position         BPM\n",
       "count   100.0        100.000000           100.000000  100.000000\n",
       "mean   1978.0         50.500000             6.940000  107.700000\n",
       "std       0.0         29.011492             5.112512   20.396821\n",
       "min    1978.0          1.000000             1.000000   64.000000\n",
       "25%    1978.0         25.750000             3.000000   96.000000\n",
       "50%    1978.0         50.500000             6.000000  110.000000\n",
       "75%    1978.0         75.250000            11.000000  122.000000\n",
       "max    1978.0        100.000000            21.000000  156.000000"
      ]
     },
     "execution_count": 8,
     "metadata": {},
     "output_type": "execute_result"
    }
   ],
   "source": [
    "songs_1978.describe()"
   ]
  },
  {
   "cell_type": "markdown",
   "metadata": {},
   "source": [
    "# Using iloc[] to access specific information\n",
    "* getting the 2nd Ranked song's artist "
   ]
  },
  {
   "cell_type": "code",
   "execution_count": 9,
   "metadata": {},
   "outputs": [
    {
     "data": {
      "text/plain": [
       "'Bee Gees'"
      ]
     },
     "execution_count": 9,
     "metadata": {},
     "output_type": "execute_result"
    }
   ],
   "source": [
    "songs_1978.iloc[1,3]"
   ]
  },
  {
   "cell_type": "markdown",
   "metadata": {},
   "source": [
    "* getting the 2nd Ranked song's genre "
   ]
  },
  {
   "cell_type": "code",
   "execution_count": 10,
   "metadata": {},
   "outputs": [
    {
     "data": {
      "text/plain": [
       "'Pop'"
      ]
     },
     "execution_count": 10,
     "metadata": {},
     "output_type": "execute_result"
    }
   ],
   "source": [
    "songs_1978.iloc[1,4]"
   ]
  },
  {
   "cell_type": "markdown",
   "metadata": {},
   "source": [
    "* getting the 50th Ranked song's title"
   ]
  },
  {
   "cell_type": "code",
   "execution_count": 11,
   "metadata": {},
   "outputs": [
    {
     "data": {
      "text/plain": [
       "'\"Thunder Island\"'"
      ]
     },
     "execution_count": 11,
     "metadata": {},
     "output_type": "execute_result"
    }
   ],
   "source": [
    "songs_1978.iloc[49,2]"
   ]
  }
 ],
 "metadata": {
  "kernelspec": {
   "display_name": "Python 3",
   "language": "python",
   "name": "python3"
  },
  "language_info": {
   "codemirror_mode": {
    "name": "ipython",
    "version": 3
   },
   "file_extension": ".py",
   "mimetype": "text/x-python",
   "name": "python",
   "nbconvert_exporter": "python",
   "pygments_lexer": "ipython3",
   "version": "3.8.3"
  }
 },
 "nbformat": 4,
 "nbformat_minor": 4
}
